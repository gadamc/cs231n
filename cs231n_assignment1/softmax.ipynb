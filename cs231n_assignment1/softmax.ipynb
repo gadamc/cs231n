{
 "cells": [
  {
   "cell_type": "markdown",
   "metadata": {},
   "source": [
    "# Softmax exercise\n",
    "\n",
    "*Complete and hand in this completed worksheet (including its outputs and any supporting code outside of the worksheet) with your assignment submission. For more details see the [assignments page](http://vision.stanford.edu/teaching/cs231n/assignments.html) on the course website.*\n",
    "\n",
    "This exercise is analogous to the SVM exercise. You will:\n",
    "\n",
    "- implement a fully-vectorized **loss function** for the Softmax classifier\n",
    "- implement the fully-vectorized expression for its **analytic gradient**\n",
    "- **check your implementation** with numerical gradient\n",
    "- use a validation set to **tune the learning rate and regularization** strength\n",
    "- **optimize** the loss function with **SGD**\n",
    "- **visualize** the final learned weights\n"
   ]
  },
  {
   "cell_type": "code",
   "execution_count": 1,
   "metadata": {
    "collapsed": false
   },
   "outputs": [],
   "source": [
    "import random\n",
    "import numpy as np\n",
    "from cs231n.data_utils import load_CIFAR10\n",
    "import matplotlib.pyplot as plt\n",
    "\n",
    "from __future__ import print_function\n",
    "\n",
    "%matplotlib inline\n",
    "plt.rcParams['figure.figsize'] = (10.0, 8.0) # set default size of plots\n",
    "plt.rcParams['image.interpolation'] = 'nearest'\n",
    "plt.rcParams['image.cmap'] = 'gray'\n",
    "\n",
    "# for auto-reloading extenrnal modules\n",
    "# see http://stackoverflow.com/questions/1907993/autoreload-of-modules-in-ipython\n",
    "%load_ext autoreload\n",
    "%autoreload 2"
   ]
  },
  {
   "cell_type": "code",
   "execution_count": 2,
   "metadata": {
    "collapsed": false
   },
   "outputs": [
    {
     "name": "stdout",
     "output_type": "stream",
     "text": [
      "Train data shape:  (49000, 3073)\n",
      "Train labels shape:  (49000,)\n",
      "Validation data shape:  (1000, 3073)\n",
      "Validation labels shape:  (1000,)\n",
      "Test data shape:  (1000, 3073)\n",
      "Test labels shape:  (1000,)\n",
      "dev data shape:  (500, 3073)\n",
      "dev labels shape:  (500,)\n"
     ]
    }
   ],
   "source": [
    "def get_CIFAR10_data(num_training=49000, num_validation=1000, num_test=1000, num_dev=500):\n",
    "    \"\"\"\n",
    "    Load the CIFAR-10 dataset from disk and perform preprocessing to prepare\n",
    "    it for the linear classifier. These are the same steps as we used for the\n",
    "    SVM, but condensed to a single function.  \n",
    "    \"\"\"\n",
    "    # Load the raw CIFAR-10 data\n",
    "    cifar10_dir = 'cs231n/datasets/cifar-10-batches-py'\n",
    "    X_train, y_train, X_test, y_test = load_CIFAR10(cifar10_dir)\n",
    "    \n",
    "    # subsample the data\n",
    "    mask = list(range(num_training, num_training + num_validation))\n",
    "    X_val = X_train[mask]\n",
    "    y_val = y_train[mask]\n",
    "    mask = list(range(num_training))\n",
    "    X_train = X_train[mask]\n",
    "    y_train = y_train[mask]\n",
    "    mask = list(range(num_test))\n",
    "    X_test = X_test[mask]\n",
    "    y_test = y_test[mask]\n",
    "    mask = np.random.choice(num_training, num_dev, replace=False)\n",
    "    X_dev = X_train[mask]\n",
    "    y_dev = y_train[mask]\n",
    "    \n",
    "    # Preprocessing: reshape the image data into rows\n",
    "    X_train = np.reshape(X_train, (X_train.shape[0], -1))\n",
    "    X_val = np.reshape(X_val, (X_val.shape[0], -1))\n",
    "    X_test = np.reshape(X_test, (X_test.shape[0], -1))\n",
    "    X_dev = np.reshape(X_dev, (X_dev.shape[0], -1))\n",
    "    \n",
    "    # Normalize the data: subtract the mean image\n",
    "    mean_image = np.mean(X_train, axis = 0)\n",
    "    X_train -= mean_image\n",
    "    X_val -= mean_image\n",
    "    X_test -= mean_image\n",
    "    X_dev -= mean_image\n",
    "    \n",
    "    # add bias dimension and transform into columns\n",
    "    X_train = np.hstack([X_train, np.ones((X_train.shape[0], 1))])\n",
    "    X_val = np.hstack([X_val, np.ones((X_val.shape[0], 1))])\n",
    "    X_test = np.hstack([X_test, np.ones((X_test.shape[0], 1))])\n",
    "    X_dev = np.hstack([X_dev, np.ones((X_dev.shape[0], 1))])\n",
    "    \n",
    "    return X_train, y_train, X_val, y_val, X_test, y_test, X_dev, y_dev\n",
    "\n",
    "\n",
    "# Invoke the above function to get our data.\n",
    "X_train, y_train, X_val, y_val, X_test, y_test, X_dev, y_dev = get_CIFAR10_data()\n",
    "print('Train data shape: ', X_train.shape)\n",
    "print('Train labels shape: ', y_train.shape)\n",
    "print('Validation data shape: ', X_val.shape)\n",
    "print('Validation labels shape: ', y_val.shape)\n",
    "print('Test data shape: ', X_test.shape)\n",
    "print('Test labels shape: ', y_test.shape)\n",
    "print('dev data shape: ', X_dev.shape)\n",
    "print('dev labels shape: ', y_dev.shape)"
   ]
  },
  {
   "cell_type": "markdown",
   "metadata": {},
   "source": [
    "## Softmax Classifier\n",
    "\n",
    "Your code for this section will all be written inside **cs231n/classifiers/softmax.py**. \n"
   ]
  },
  {
   "cell_type": "code",
   "execution_count": 3,
   "metadata": {
    "collapsed": false
   },
   "outputs": [
    {
     "name": "stdout",
     "output_type": "stream",
     "text": [
      "loss: 2.358888\n",
      "soln loss: 2.358888\n",
      "sanity check: 2.302585\n"
     ]
    }
   ],
   "source": [
    "# First implement the naive softmax loss function with nested loops.\n",
    "# Open the file cs231n/classifiers/softmax.py and implement the\n",
    "# softmax_loss_naive function.\n",
    "\n",
    "from cs231n.classifiers.softmax import softmax_loss_naive\n",
    "from cs231n.classifiers.softmax import softmax_loss_naive_soln\n",
    "import time\n",
    "\n",
    "# Generate a random softmax weight matrix and use it to compute the loss.\n",
    "W = np.random.randn(3073, 10) * 0.0001\n",
    "loss, grad = softmax_loss_naive(W, X_dev, y_dev, 0.0)\n",
    "\n",
    "# As a rough sanity check, our loss should be something close to -log(0.1).\n",
    "print('loss: %f' % loss)\n",
    "loss, grad = softmax_loss_naive(W, X_dev, y_dev, 0.0)\n",
    "\n",
    "# As a rough sanity check, our loss should be something close to -log(0.1).\n",
    "print('soln loss: %f' % loss)\n",
    "print('sanity check: %f' % (-np.log(0.1)))"
   ]
  },
  {
   "cell_type": "markdown",
   "metadata": {},
   "source": [
    "## Inline Question 1:\n",
    "Why do we expect our loss to be close to -log(0.1)? Explain briefly.**\n",
    "\n",
    "**Your answer:** *Fill this in*\n",
    "We expect all the scores to be evenly distributed, so e^S_yi = e^S_j for all j. This leads to the arguemnt to the\n",
    "log function to be ~1/N where N is number of classes. In this case, N = 10. "
   ]
  },
  {
   "cell_type": "code",
   "execution_count": 4,
   "metadata": {
    "collapsed": false
   },
   "outputs": [
    {
     "name": "stdout",
     "output_type": "stream",
     "text": [
      "numerical: 3.463156 analytic: 3.096394, relative error: 5.591267e-02\n",
      "numerical: -0.056614 analytic: -0.161419, relative error: 4.806806e-01\n",
      "numerical: -0.024565 analytic: -0.043594, relative error: 2.791822e-01\n",
      "numerical: -2.012206 analytic: -1.887563, relative error: 3.196168e-02\n",
      "numerical: -3.961506 analytic: -3.594083, relative error: 4.862930e-02\n",
      "numerical: 3.579744 analytic: 3.286342, relative error: 4.273220e-02\n",
      "numerical: -4.228863 analytic: -3.835356, relative error: 4.879677e-02\n",
      "numerical: -8.414481 analytic: -7.692400, relative error: 4.483059e-02\n",
      "numerical: 3.728569 analytic: 3.338648, relative error: 5.517325e-02\n",
      "numerical: -1.264521 analytic: -1.208195, relative error: 2.277908e-02\n",
      "add regularization\n",
      "numerical: 1.184028 analytic: 1.007165, relative error: 8.071537e-02\n",
      "numerical: 0.678759 analytic: 0.702127, relative error: 1.692255e-02\n",
      "numerical: -6.001819 analytic: -5.484676, relative error: 4.502182e-02\n",
      "numerical: 0.389983 analytic: 0.348493, relative error: 5.618331e-02\n",
      "numerical: -0.805246 analytic: -0.682884, relative error: 8.222517e-02\n",
      "numerical: -0.696700 analytic: -0.657030, relative error: 2.930446e-02\n",
      "numerical: 0.267155 analytic: 0.268742, relative error: 2.962083e-03\n",
      "numerical: 0.410813 analytic: 0.365039, relative error: 5.899888e-02\n",
      "numerical: 2.935837 analytic: 2.601078, relative error: 6.045934e-02\n",
      "numerical: 0.387213 analytic: 0.331185, relative error: 7.799081e-02\n"
     ]
    }
   ],
   "source": [
    "\n",
    "### THIS CELL USES THE softmax_loss_naive_soln, which I stole from here:\n",
    "# https://github.com/ethan-mgallagher/cs231/blob/master/cs231n/classifiers/softmax.py\n",
    "# \n",
    "# There may be better solutions out there. I didn't try hard\n",
    "#\n",
    "# If you look at the output below, however, you'll see that this gradient is not correct\n",
    "#\n",
    "# The next cell uses my solution, and the gradient differs from the numerical estimation by ~10^-8, which \n",
    "# seems *more correct*. I expected to get ~10^-11 difference as was seen in the SVM classifier. \n",
    "\n",
    "# Complete the implementation of softmax_loss_naive and implement a (naive)\n",
    "# version of the gradient that uses nested loops.\n",
    "loss, grad = softmax_loss_naive_soln(W, X_dev, y_dev, 0.0)\n",
    "\n",
    "# As we did for the SVM, use numeric gradient checking as a debugging tool.\n",
    "# The numeric gradient should be close to the analytic gradient.\n",
    "from cs231n.gradient_check import grad_check_sparse\n",
    "f = lambda w: softmax_loss_naive_soln(w, X_dev, y_dev, 0.0)[0]\n",
    "grad_numerical = grad_check_sparse(f, W, grad, 10)\n",
    "\n",
    "print(\"add regularization\")\n",
    "# similar to SVM case, do another gradient check with regularization\n",
    "loss, grad = softmax_loss_naive_soln(W, X_dev, y_dev, 5e1)\n",
    "f = lambda w: softmax_loss_naive_soln(w, X_dev, y_dev, 5e1)[0]\n",
    "grad_numerical = grad_check_sparse(f, W, grad, 10)"
   ]
  },
  {
   "cell_type": "code",
   "execution_count": 5,
   "metadata": {
    "collapsed": false
   },
   "outputs": [
    {
     "name": "stdout",
     "output_type": "stream",
     "text": [
      "numerical: -3.354937 analytic: -3.354937, relative error: 4.876624e-09\n",
      "numerical: -0.423490 analytic: -0.423490, relative error: 9.392492e-08\n",
      "numerical: -4.855241 analytic: -4.855241, relative error: 1.240579e-08\n",
      "numerical: 0.209670 analytic: 0.209669, relative error: 4.767618e-07\n",
      "numerical: 2.238543 analytic: 2.238543, relative error: 1.870795e-08\n",
      "numerical: 1.470117 analytic: 1.470117, relative error: 3.035536e-08\n",
      "numerical: 1.036100 analytic: 1.036100, relative error: 9.151071e-08\n",
      "numerical: 2.385435 analytic: 2.385435, relative error: 7.614619e-09\n",
      "numerical: -0.282571 analytic: -0.282571, relative error: 1.074735e-07\n",
      "numerical: -1.572437 analytic: -1.572437, relative error: 1.680861e-08\n",
      "add regularization\n",
      "numerical: -2.282506 analytic: -2.282506, relative error: 1.442555e-09\n",
      "numerical: 3.038803 analytic: 3.038803, relative error: 2.598129e-09\n",
      "numerical: -0.177995 analytic: -0.177995, relative error: 1.855621e-07\n",
      "numerical: 1.864537 analytic: 1.864537, relative error: 3.729511e-08\n",
      "numerical: 0.368292 analytic: 0.368292, relative error: 3.795474e-08\n",
      "numerical: 0.087306 analytic: 0.087306, relative error: 3.651918e-07\n",
      "numerical: 0.809112 analytic: 0.809112, relative error: 4.079930e-08\n",
      "numerical: 3.337672 analytic: 3.337672, relative error: 6.765600e-09\n",
      "numerical: 1.017674 analytic: 1.017674, relative error: 2.722183e-08\n",
      "numerical: 2.607091 analytic: 2.607091, relative error: 2.796095e-08\n"
     ]
    }
   ],
   "source": [
    "# Complete the implementation of softmax_loss_naive and implement a (naive)\n",
    "# version of the gradient that uses nested loops.\n",
    "loss, grad = softmax_loss_naive(W, X_dev, y_dev, 0.0)\n",
    "\n",
    "# As we did for the SVM, use numeric gradient checking as a debugging tool.\n",
    "# The numeric gradient should be close to the analytic gradient.\n",
    "from cs231n.gradient_check import grad_check_sparse\n",
    "f = lambda w: softmax_loss_naive(w, X_dev, y_dev, 0.0)[0]\n",
    "grad_numerical = grad_check_sparse(f, W, grad, 10)\n",
    "\n",
    "print(\"add regularization\")\n",
    "# similar to SVM case, do another gradient check with regularization\n",
    "loss, grad = softmax_loss_naive(W, X_dev, y_dev, 5e1)\n",
    "f = lambda w: softmax_loss_naive(w, X_dev, y_dev, 5e1)[0]\n",
    "grad_numerical = grad_check_sparse(f, W, grad, 10)"
   ]
  },
  {
   "cell_type": "code",
   "execution_count": 11,
   "metadata": {
    "collapsed": false
   },
   "outputs": [
    {
     "name": "stdout",
     "output_type": "stream",
     "text": [
      "naive loss: 2.360976e+00 computed in 0.134476s\n",
      "vectorized loss: 2.360976e+00 computed in 0.006367s\n",
      "Loss difference: 0.000000\n",
      "Gradient difference: 0.000000\n"
     ]
    }
   ],
   "source": [
    "# Now that we have a naive implementation of the softmax loss function and its gradient,\n",
    "# implement a vectorized version in softmax_loss_vectorized.\n",
    "# The two versions should compute the same results, but the vectorized version should be\n",
    "# much faster.\n",
    "tic = time.time()\n",
    "loss_naive, grad_naive = softmax_loss_naive(W, X_dev, y_dev, 0.000005)\n",
    "toc = time.time()\n",
    "print('naive loss: %e computed in %fs' % (loss_naive, toc - tic))\n",
    "\n",
    "from cs231n.classifiers.softmax import softmax_loss_vectorized\n",
    "from cs231n.classifiers.softmax import softmax_loss_vectorized_soln\n",
    "\n",
    "tic = time.time()\n",
    "loss_vectorized, grad_vectorized = softmax_loss_vectorized(W, X_dev, y_dev, 0.000005)\n",
    "toc = time.time()\n",
    "print('vectorized loss: %e computed in %fs' % (loss_vectorized, toc - tic))\n",
    "\n",
    "# As we did for the SVM, we use the Frobenius norm to compare the two versions\n",
    "# of the gradient.\n",
    "grad_difference = np.linalg.norm(grad_naive - grad_vectorized, ord='fro')\n",
    "print('Loss difference: %f' % np.abs(loss_naive - loss_vectorized))\n",
    "print('Gradient difference: %f' % grad_difference)"
   ]
  },
  {
   "cell_type": "code",
   "execution_count": 13,
   "metadata": {
    "collapsed": false
   },
   "outputs": [
    {
     "name": "stdout",
     "output_type": "stream",
     "text": [
      "lr 1.000000e-09 reg 1.000000e+03 train accuracy: 0.108082 val accuracy: 0.100000\n",
      "lr 1.000000e-09 reg 3.511192e+03 train accuracy: 0.109837 val accuracy: 0.112000\n",
      "lr 1.000000e-09 reg 1.232847e+04 train accuracy: 0.102714 val accuracy: 0.096000\n",
      "lr 1.000000e-09 reg 4.328761e+04 train accuracy: 0.107347 val accuracy: 0.114000\n",
      "lr 1.000000e-09 reg 1.519911e+05 train accuracy: 0.089694 val accuracy: 0.078000\n",
      "lr 1.000000e-09 reg 5.336699e+05 train accuracy: 0.087204 val accuracy: 0.076000\n",
      "lr 1.000000e-09 reg 1.873817e+06 train accuracy: 0.113388 val accuracy: 0.111000\n",
      "lr 1.000000e-09 reg 6.579332e+06 train accuracy: 0.058592 val accuracy: 0.068000\n",
      "lr 1.000000e-09 reg 2.310130e+07 train accuracy: 0.090694 val accuracy: 0.076000\n",
      "lr 1.000000e-09 reg 8.111308e+07 train accuracy: 0.223184 val accuracy: 0.217000\n",
      "lr 1.000000e-09 reg 2.848036e+08 train accuracy: 0.233612 val accuracy: 0.236000\n",
      "lr 1.000000e-09 reg 1.000000e+09 train accuracy: 0.227163 val accuracy: 0.225000\n",
      "lr 1.873817e-09 reg 1.000000e+03 train accuracy: 0.087837 val accuracy: 0.103000\n",
      "lr 1.873817e-09 reg 3.511192e+03 train accuracy: 0.120878 val accuracy: 0.121000\n",
      "lr 1.873817e-09 reg 1.232847e+04 train accuracy: 0.108633 val accuracy: 0.107000\n",
      "lr 1.873817e-09 reg 4.328761e+04 train accuracy: 0.095469 val accuracy: 0.085000\n",
      "lr 1.873817e-09 reg 1.519911e+05 train accuracy: 0.105224 val accuracy: 0.091000\n",
      "lr 1.873817e-09 reg 5.336699e+05 train accuracy: 0.102245 val accuracy: 0.094000\n",
      "lr 1.873817e-09 reg 1.873817e+06 train accuracy: 0.123796 val accuracy: 0.125000\n",
      "lr 1.873817e-09 reg 6.579332e+06 train accuracy: 0.095796 val accuracy: 0.088000\n",
      "lr 1.873817e-09 reg 2.310130e+07 train accuracy: 0.115959 val accuracy: 0.102000\n",
      "lr 1.873817e-09 reg 8.111308e+07 train accuracy: 0.244367 val accuracy: 0.258000\n",
      "lr 1.873817e-09 reg 2.848036e+08 train accuracy: 0.235163 val accuracy: 0.250000\n",
      "lr 1.873817e-09 reg 1.000000e+09 train accuracy: 0.131551 val accuracy: 0.150000\n",
      "lr 3.511192e-09 reg 1.000000e+03 train accuracy: 0.097816 val accuracy: 0.092000\n",
      "lr 3.511192e-09 reg 3.511192e+03 train accuracy: 0.107612 val accuracy: 0.109000\n",
      "lr 3.511192e-09 reg 1.232847e+04 train accuracy: 0.102020 val accuracy: 0.096000\n",
      "lr 3.511192e-09 reg 4.328761e+04 train accuracy: 0.105898 val accuracy: 0.098000\n",
      "lr 3.511192e-09 reg 1.519911e+05 train accuracy: 0.082837 val accuracy: 0.093000\n",
      "lr 3.511192e-09 reg 5.336699e+05 train accuracy: 0.119816 val accuracy: 0.136000\n",
      "lr 3.511192e-09 reg 1.873817e+06 train accuracy: 0.102776 val accuracy: 0.101000\n",
      "lr 3.511192e-09 reg 6.579332e+06 train accuracy: 0.101061 val accuracy: 0.118000\n",
      "lr 3.511192e-09 reg 2.310130e+07 train accuracy: 0.241959 val accuracy: 0.257000\n",
      "lr 3.511192e-09 reg 8.111308e+07 train accuracy: 0.236061 val accuracy: 0.247000\n",
      "lr 3.511192e-09 reg 2.848036e+08 train accuracy: 0.228020 val accuracy: 0.241000\n"
     ]
    },
    {
     "name": "stderr",
     "output_type": "stream",
     "text": [
      "/Users/adamcox/softwaredev/cloudant/dev-ad/projects/cs231n/cs231n_assignment1/cs231n/classifiers/softmax.py:103: RuntimeWarning: divide by zero encountered in log\n",
      "  r_loss = -1.0*np.log(r_loss)\n"
     ]
    },
    {
     "name": "stdout",
     "output_type": "stream",
     "text": [
      "lr 3.511192e-09 reg 1.000000e+09 train accuracy: 0.097980 val accuracy: 0.103000\n",
      "lr 6.579332e-09 reg 1.000000e+03 train accuracy: 0.103959 val accuracy: 0.090000\n",
      "lr 6.579332e-09 reg 3.511192e+03 train accuracy: 0.107531 val accuracy: 0.108000\n",
      "lr 6.579332e-09 reg 1.232847e+04 train accuracy: 0.081490 val accuracy: 0.082000\n",
      "lr 6.579332e-09 reg 4.328761e+04 train accuracy: 0.111510 val accuracy: 0.120000\n",
      "lr 6.579332e-09 reg 1.519911e+05 train accuracy: 0.088673 val accuracy: 0.076000\n",
      "lr 6.579332e-09 reg 5.336699e+05 train accuracy: 0.094878 val accuracy: 0.091000\n",
      "lr 6.579332e-09 reg 1.873817e+06 train accuracy: 0.103735 val accuracy: 0.106000\n",
      "lr 6.579332e-09 reg 6.579332e+06 train accuracy: 0.141327 val accuracy: 0.132000\n",
      "lr 6.579332e-09 reg 2.310130e+07 train accuracy: 0.230204 val accuracy: 0.243000\n",
      "lr 6.579332e-09 reg 8.111308e+07 train accuracy: 0.241633 val accuracy: 0.244000\n",
      "lr 6.579332e-09 reg 2.848036e+08 train accuracy: 0.171918 val accuracy: 0.161000\n",
      "lr 6.579332e-09 reg 1.000000e+09 train accuracy: 0.085388 val accuracy: 0.096000\n",
      "lr 1.232847e-08 reg 1.000000e+03 train accuracy: 0.071306 val accuracy: 0.088000\n",
      "lr 1.232847e-08 reg 3.511192e+03 train accuracy: 0.103245 val accuracy: 0.100000\n",
      "lr 1.232847e-08 reg 1.232847e+04 train accuracy: 0.101429 val accuracy: 0.104000\n",
      "lr 1.232847e-08 reg 4.328761e+04 train accuracy: 0.108755 val accuracy: 0.113000\n",
      "lr 1.232847e-08 reg 1.519911e+05 train accuracy: 0.101224 val accuracy: 0.114000\n",
      "lr 1.232847e-08 reg 5.336699e+05 train accuracy: 0.131327 val accuracy: 0.161000\n",
      "lr 1.232847e-08 reg 1.873817e+06 train accuracy: 0.104020 val accuracy: 0.097000\n",
      "lr 1.232847e-08 reg 6.579332e+06 train accuracy: 0.242041 val accuracy: 0.251000\n",
      "lr 1.232847e-08 reg 2.310130e+07 train accuracy: 0.237020 val accuracy: 0.251000\n",
      "lr 1.232847e-08 reg 8.111308e+07 train accuracy: 0.242735 val accuracy: 0.249000\n",
      "lr 1.232847e-08 reg 2.848036e+08 train accuracy: 0.116184 val accuracy: 0.124000\n",
      "lr 1.232847e-08 reg 1.000000e+09 train accuracy: 0.104204 val accuracy: 0.096000\n",
      "lr 2.310130e-08 reg 1.000000e+03 train accuracy: 0.115143 val accuracy: 0.111000\n",
      "lr 2.310130e-08 reg 3.511192e+03 train accuracy: 0.105510 val accuracy: 0.118000\n",
      "lr 2.310130e-08 reg 1.232847e+04 train accuracy: 0.105429 val accuracy: 0.102000\n",
      "lr 2.310130e-08 reg 4.328761e+04 train accuracy: 0.103000 val accuracy: 0.112000\n",
      "lr 2.310130e-08 reg 1.519911e+05 train accuracy: 0.129714 val accuracy: 0.124000\n",
      "lr 2.310130e-08 reg 5.336699e+05 train accuracy: 0.142163 val accuracy: 0.136000\n",
      "lr 2.310130e-08 reg 1.873817e+06 train accuracy: 0.229388 val accuracy: 0.225000\n",
      "lr 2.310130e-08 reg 6.579332e+06 train accuracy: 0.247449 val accuracy: 0.263000\n",
      "lr 2.310130e-08 reg 2.310130e+07 train accuracy: 0.239082 val accuracy: 0.234000\n",
      "lr 2.310130e-08 reg 8.111308e+07 train accuracy: 0.180306 val accuracy: 0.195000\n",
      "lr 2.310130e-08 reg 2.848036e+08 train accuracy: 0.081694 val accuracy: 0.078000\n",
      "lr 2.310130e-08 reg 1.000000e+09 train accuracy: 0.091408 val accuracy: 0.075000\n",
      "lr 4.328761e-08 reg 1.000000e+03 train accuracy: 0.129571 val accuracy: 0.112000\n",
      "lr 4.328761e-08 reg 3.511192e+03 train accuracy: 0.114531 val accuracy: 0.107000\n",
      "lr 4.328761e-08 reg 1.232847e+04 train accuracy: 0.094429 val accuracy: 0.099000\n",
      "lr 4.328761e-08 reg 4.328761e+04 train accuracy: 0.115000 val accuracy: 0.119000\n",
      "lr 4.328761e-08 reg 1.519911e+05 train accuracy: 0.142367 val accuracy: 0.129000\n",
      "lr 4.328761e-08 reg 5.336699e+05 train accuracy: 0.178918 val accuracy: 0.190000\n",
      "lr 4.328761e-08 reg 1.873817e+06 train accuracy: 0.266082 val accuracy: 0.279000\n",
      "lr 4.328761e-08 reg 6.579332e+06 train accuracy: 0.248122 val accuracy: 0.275000\n",
      "lr 4.328761e-08 reg 2.310130e+07 train accuracy: 0.237245 val accuracy: 0.254000\n",
      "lr 4.328761e-08 reg 8.111308e+07 train accuracy: 0.096796 val accuracy: 0.120000\n",
      "lr 4.328761e-08 reg 2.848036e+08 train accuracy: 0.117469 val accuracy: 0.117000\n"
     ]
    },
    {
     "name": "stderr",
     "output_type": "stream",
     "text": [
      "/Users/adamcox/softwaredev/cloudant/dev-ad/projects/cs231n/cs231n_assignment1/cs231n/classifiers/softmax.py:116: RuntimeWarning: overflow encountered in double_scalars\n",
      "  loss = r_loss.sum()/num_train + 0.5 * reg * np.sum(W * W)\n",
      "/Users/adamcox/softwaredev/cloudant/dev-ad/projects/cs231n/cs231n_assignment1/cs231n/classifiers/softmax.py:116: RuntimeWarning: overflow encountered in multiply\n",
      "  loss = r_loss.sum()/num_train + 0.5 * reg * np.sum(W * W)\n"
     ]
    },
    {
     "name": "stdout",
     "output_type": "stream",
     "text": [
      "lr 4.328761e-08 reg 1.000000e+09 train accuracy: 0.104510 val accuracy: 0.119000\n",
      "lr 8.111308e-08 reg 1.000000e+03 train accuracy: 0.144694 val accuracy: 0.168000\n",
      "lr 8.111308e-08 reg 3.511192e+03 train accuracy: 0.152347 val accuracy: 0.148000\n",
      "lr 8.111308e-08 reg 1.232847e+04 train accuracy: 0.136510 val accuracy: 0.137000\n",
      "lr 8.111308e-08 reg 4.328761e+04 train accuracy: 0.129204 val accuracy: 0.132000\n",
      "lr 8.111308e-08 reg 1.519911e+05 train accuracy: 0.176122 val accuracy: 0.193000\n",
      "lr 8.111308e-08 reg 5.336699e+05 train accuracy: 0.268286 val accuracy: 0.268000\n",
      "lr 8.111308e-08 reg 1.873817e+06 train accuracy: 0.241347 val accuracy: 0.265000\n",
      "lr 8.111308e-08 reg 6.579332e+06 train accuracy: 0.215633 val accuracy: 0.231000\n",
      "lr 8.111308e-08 reg 2.310130e+07 train accuracy: 0.132204 val accuracy: 0.142000\n",
      "lr 8.111308e-08 reg 8.111308e+07 train accuracy: 0.104939 val accuracy: 0.113000\n",
      "lr 8.111308e-08 reg 2.848036e+08 train accuracy: 0.096714 val accuracy: 0.100000\n",
      "lr 8.111308e-08 reg 1.000000e+09 train accuracy: 0.110122 val accuracy: 0.103000\n",
      "lr 1.519911e-07 reg 1.000000e+03 train accuracy: 0.177306 val accuracy: 0.181000\n",
      "lr 1.519911e-07 reg 3.511192e+03 train accuracy: 0.156918 val accuracy: 0.170000\n",
      "lr 1.519911e-07 reg 1.232847e+04 train accuracy: 0.157408 val accuracy: 0.155000\n",
      "lr 1.519911e-07 reg 4.328761e+04 train accuracy: 0.172510 val accuracy: 0.168000\n",
      "lr 1.519911e-07 reg 1.519911e+05 train accuracy: 0.240245 val accuracy: 0.265000\n",
      "lr 1.519911e-07 reg 5.336699e+05 train accuracy: 0.257939 val accuracy: 0.270000\n",
      "lr 1.519911e-07 reg 1.873817e+06 train accuracy: 0.238959 val accuracy: 0.238000\n",
      "lr 1.519911e-07 reg 6.579332e+06 train accuracy: 0.213408 val accuracy: 0.215000\n",
      "lr 1.519911e-07 reg 2.310130e+07 train accuracy: 0.108837 val accuracy: 0.112000\n",
      "lr 1.519911e-07 reg 8.111308e+07 train accuracy: 0.073939 val accuracy: 0.070000\n",
      "lr 1.519911e-07 reg 2.848036e+08 train accuracy: 0.090306 val accuracy: 0.103000\n",
      "lr 1.519911e-07 reg 1.000000e+09 train accuracy: 0.103265 val accuracy: 0.083000\n",
      "lr 2.848036e-07 reg 1.000000e+03 train accuracy: 0.190327 val accuracy: 0.188000\n",
      "lr 2.848036e-07 reg 3.511192e+03 train accuracy: 0.180327 val accuracy: 0.186000\n",
      "lr 2.848036e-07 reg 1.232847e+04 train accuracy: 0.189796 val accuracy: 0.200000\n",
      "lr 2.848036e-07 reg 4.328761e+04 train accuracy: 0.225224 val accuracy: 0.236000\n",
      "lr 2.848036e-07 reg 1.519911e+05 train accuracy: 0.292061 val accuracy: 0.301000\n",
      "lr 2.848036e-07 reg 5.336699e+05 train accuracy: 0.245959 val accuracy: 0.266000\n",
      "lr 2.848036e-07 reg 1.873817e+06 train accuracy: 0.244531 val accuracy: 0.261000\n",
      "lr 2.848036e-07 reg 6.579332e+06 train accuracy: 0.158408 val accuracy: 0.151000\n",
      "lr 2.848036e-07 reg 2.310130e+07 train accuracy: 0.091612 val accuracy: 0.085000\n",
      "lr 2.848036e-07 reg 8.111308e+07 train accuracy: 0.102959 val accuracy: 0.096000\n",
      "lr 2.848036e-07 reg 2.848036e+08 train accuracy: 0.107755 val accuracy: 0.111000\n",
      "lr 2.848036e-07 reg 1.000000e+09 train accuracy: 0.105837 val accuracy: 0.095000\n",
      "lr 5.336699e-07 reg 1.000000e+03 train accuracy: 0.199653 val accuracy: 0.206000\n",
      "lr 5.336699e-07 reg 3.511192e+03 train accuracy: 0.200959 val accuracy: 0.211000\n",
      "lr 5.336699e-07 reg 1.232847e+04 train accuracy: 0.231714 val accuracy: 0.236000\n",
      "lr 5.336699e-07 reg 4.328761e+04 train accuracy: 0.297980 val accuracy: 0.307000\n",
      "lr 5.336699e-07 reg 1.519911e+05 train accuracy: 0.306980 val accuracy: 0.322000\n",
      "lr 5.336699e-07 reg 5.336699e+05 train accuracy: 0.241265 val accuracy: 0.249000\n",
      "lr 5.336699e-07 reg 1.873817e+06 train accuracy: 0.236122 val accuracy: 0.229000\n",
      "lr 5.336699e-07 reg 6.579332e+06 train accuracy: 0.112082 val accuracy: 0.111000\n",
      "lr 5.336699e-07 reg 2.310130e+07 train accuracy: 0.094633 val accuracy: 0.092000\n",
      "lr 5.336699e-07 reg 8.111308e+07 train accuracy: 0.095551 val accuracy: 0.097000\n",
      "lr 5.336699e-07 reg 2.848036e+08 train accuracy: 0.083469 val accuracy: 0.076000\n",
      "lr 5.336699e-07 reg 1.000000e+09 train accuracy: 0.123388 val accuracy: 0.116000\n",
      "lr 1.000000e-06 reg 1.000000e+03 train accuracy: 0.243122 val accuracy: 0.246000\n",
      "lr 1.000000e-06 reg 3.511192e+03 train accuracy: 0.246469 val accuracy: 0.245000\n",
      "lr 1.000000e-06 reg 1.232847e+04 train accuracy: 0.302714 val accuracy: 0.315000\n",
      "lr 1.000000e-06 reg 4.328761e+04 train accuracy: 0.322204 val accuracy: 0.328000\n",
      "lr 1.000000e-06 reg 1.519911e+05 train accuracy: 0.272245 val accuracy: 0.285000\n",
      "lr 1.000000e-06 reg 5.336699e+05 train accuracy: 0.240694 val accuracy: 0.282000\n",
      "lr 1.000000e-06 reg 1.873817e+06 train accuracy: 0.084061 val accuracy: 0.100000\n",
      "lr 1.000000e-06 reg 6.579332e+06 train accuracy: 0.097980 val accuracy: 0.102000\n",
      "lr 1.000000e-06 reg 2.310130e+07 train accuracy: 0.088755 val accuracy: 0.087000\n",
      "lr 1.000000e-06 reg 8.111308e+07 train accuracy: 0.131122 val accuracy: 0.120000\n",
      "lr 1.000000e-06 reg 2.848036e+08 train accuracy: 0.125755 val accuracy: 0.116000\n",
      "lr 1.000000e-06 reg 1.000000e+09 train accuracy: 0.085571 val accuracy: 0.098000\n",
      "best validation accuracy achieved during cross-validation: 0.328000\n"
     ]
    }
   ],
   "source": [
    "# Use the validation set to tune hyperparameters (regularization strength and\n",
    "# learning rate). You should experiment with different ranges for the learning\n",
    "# rates and regularization strengths; if you are careful you should be able to\n",
    "# get a classification accuracy of over 0.35 on the validation set.\n",
    "from cs231n.classifiers import Softmax\n",
    "results = {}\n",
    "best_val = -1\n",
    "best_softmax = None\n",
    "learning_rates = [1e-7, 5e-7]\n",
    "regularization_strengths = [2.5e4, 5e4]\n",
    "\n",
    "learning_rates = np.logspace(-9, -6, 12) \n",
    "regularization_strengths = np.logspace(3, 9, 12) \n",
    "\n",
    "################################################################################\n",
    "# TODO:                                                                        #\n",
    "# Use the validation set to set the learning rate and regularization strength. #\n",
    "# This should be identical to the validation that you did for the SVM; save    #\n",
    "# the best trained softmax classifer in best_softmax.                          #\n",
    "################################################################################\n",
    "iters = 100\n",
    "for lr in learning_rates:\n",
    "    for reg in regularization_strengths:\n",
    "        \n",
    "        softmax = Softmax()\n",
    "        softmax.train(X_train, y_train, learning_rate=lr, reg=reg, num_iters=iters)\n",
    "        \n",
    "        y_train_pred = softmax.predict(X_train)\n",
    "        acc_train = np.mean(y_train == y_train_pred)\n",
    "        y_val_pred = softmax.predict(X_val)\n",
    "        acc_val = np.mean(y_val == y_val_pred)\n",
    "        \n",
    "        results[(lr, reg)] = (acc_train, acc_val)\n",
    "        \n",
    "        print('lr %e reg %e train accuracy: %f val accuracy: %f' % (\n",
    "                lr, reg, acc_train, acc_val))\n",
    "        \n",
    "        if best_val < acc_val:\n",
    "            best_val = acc_val\n",
    "            best_softmax = softmax\n",
    "################################################################################\n",
    "#                              END OF YOUR CODE                                #\n",
    "################################################################################\n",
    "    \n",
    "# Print out results.\n",
    "# for lr, reg in sorted(results):\n",
    "#     train_accuracy, val_accuracy = results[(lr, reg)]\n",
    "#     print('lr %e reg %e train accuracy: %f val accuracy: %f' % (\n",
    "#                 lr, reg, train_accuracy, val_accuracy))\n",
    "    \n",
    "print('best validation accuracy achieved during cross-validation: %f' % best_val)"
   ]
  },
  {
   "cell_type": "code",
   "execution_count": 14,
   "metadata": {
    "collapsed": false
   },
   "outputs": [
    {
     "name": "stdout",
     "output_type": "stream",
     "text": [
      "softmax on raw pixels final test set accuracy: 0.329000\n"
     ]
    }
   ],
   "source": [
    "# evaluate on test set\n",
    "# Evaluate the best softmax on test set\n",
    "y_test_pred = best_softmax.predict(X_test)\n",
    "test_accuracy = np.mean(y_test == y_test_pred)\n",
    "print('softmax on raw pixels final test set accuracy: %f' % (test_accuracy, ))"
   ]
  },
  {
   "cell_type": "code",
   "execution_count": 15,
   "metadata": {
    "collapsed": false
   },
   "outputs": [
    {
     "data": {
      "image/png": "[encoded data removed]",
      "text/plain": [
       "<matplotlib.figure.Figure at 0x10eb0fe48>"
      ]
     },
     "metadata": {},
     "output_type": "display_data"
    }
   ],
   "source": [
    "# Visualize the learned weights for each class\n",
    "w = best_softmax.W[:-1,:] # strip out the bias\n",
    "w = w.reshape(32, 32, 3, 10)\n",
    "\n",
    "w_min, w_max = np.min(w), np.max(w)\n",
    "\n",
    "classes = ['plane', 'car', 'bird', 'cat', 'deer', 'dog', 'frog', 'horse', 'ship', 'truck']\n",
    "for i in range(10):\n",
    "    plt.subplot(2, 5, i + 1)\n",
    "    \n",
    "    # Rescale the weights to be between 0 and 255\n",
    "    wimg = 255.0 * (w[:, :, :, i].squeeze() - w_min) / (w_max - w_min)\n",
    "    plt.imshow(wimg.astype('uint8'))\n",
    "    plt.axis('off')\n",
    "    plt.title(classes[i])"
   ]
  },
  {
   "cell_type": "code",
   "execution_count": null,
   "metadata": {
    "collapsed": true
   },
   "outputs": [],
   "source": []
  }
 ],
 "metadata": {
  "kernelspec": {
   "display_name": "Python 3",
   "language": "python",
   "name": "python3"
  },
  "language_info": {
   "codemirror_mode": {
    "name": "ipython",
    "version": 3
   },
   "file_extension": ".py",
   "mimetype": "text/x-python",
   "name": "python",
   "nbconvert_exporter": "python",
   "pygments_lexer": "ipython3",
   "version": "3.5.4"
  }
 },
 "nbformat": 4,
 "nbformat_minor": 0
}
